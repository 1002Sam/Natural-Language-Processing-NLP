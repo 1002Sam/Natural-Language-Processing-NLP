{
  "nbformat": 4,
  "nbformat_minor": 0,
  "metadata": {
    "colab": {
      "provenance": [],
      "authorship_tag": "ABX9TyPLEx8gM07LP8SD5BXbvnb5",
      "include_colab_link": true
    },
    "kernelspec": {
      "name": "python3",
      "display_name": "Python 3"
    },
    "language_info": {
      "name": "python"
    }
  },
  "cells": [
    {
      "cell_type": "markdown",
      "metadata": {
        "id": "view-in-github",
        "colab_type": "text"
      },
      "source": [
        "<a href=\"https://colab.research.google.com/github/1002Sam/Natural-Language-Processing-NLP/blob/main/Natural_Language_Processing_NLP.ipynb\" target=\"_parent\"><img src=\"https://colab.research.google.com/assets/colab-badge.svg\" alt=\"Open In Colab\"/></a>"
      ]
    },
    {
      "cell_type": "markdown",
      "source": [
        "### My Self Learning of NLP"
      ],
      "metadata": {
        "id": "b7uqDPXgYrqn"
      }
    },
    {
      "cell_type": "code",
      "execution_count": 583,
      "metadata": {
        "id": "Gz_7wzgsTXs0",
        "colab": {
          "base_uri": "https://localhost:8080/"
        },
        "outputId": "83ffc547-7a04-4850-f70f-7cfad4749339"
      },
      "outputs": [
        {
          "output_type": "stream",
          "name": "stderr",
          "text": [
            "[nltk_data] Downloading package punkt to /root/nltk_data...\n",
            "[nltk_data]   Package punkt is already up-to-date!\n"
          ]
        },
        {
          "output_type": "execute_result",
          "data": {
            "text/plain": [
              "True"
            ]
          },
          "metadata": {},
          "execution_count": 583
        }
      ],
      "source": [
        "import nltk\n",
        "nltk.download('punkt')"
      ]
    },
    {
      "cell_type": "code",
      "source": [
        "paragraph = \"\"\"I have three visions for India. In 3000 years of our history, people from all over\n",
        "               the world have come and invaded us, captured our lands, conquered our minds.\n",
        "               From Alexander onwards, the Greeks, the Turks, the Moguls, the Portuguese, the British,\n",
        "               the French, the Dutch, all of them came and looted us, took over what was ours.\n",
        "               Yet we have not done this to any other nation. We have not conquered anyone.\n",
        "               We have not grabbed their land, their culture,\n",
        "               their history and tried to enforce our way of life on them.\n",
        "               Why? Because we respect the freedom of others.That is why my\n",
        "               first vision is that of freedom. I believe that India got its first vision of\n",
        "               this in 1857, when we started the War of Independence. It is this freedom that\n",
        "               we must protect and nurture and build on. If we are not free, no one will respect us.\n",
        "               My second vision for India’s development. For fifty years we have been a developing nation.\n",
        "               It is time we see ourselves as a developed nation. We are among the top 5 nations of the world\n",
        "               in terms of GDP. We have a 10 percent growth rate in most areas. Our poverty levels are falling.\n",
        "               Our achievements are being globally recognised today. Yet we lack the self-confidence to\n",
        "               see ourselves as a developed nation, self-reliant and self-assured. Isn’t this incorrect?\n",
        "               I have a third vision. India must stand up to the world. Because I believe that unless India\n",
        "               stands up to the world, no one will respect us. Only strength respects strength. We must be\n",
        "               strong not only as a military power but also as an economic power. Both must go hand-in-hand.\n",
        "               My good fortune was to have worked with three great minds. Dr. Vikram Sarabhai of the Dept. of\n",
        "               space, Professor Satish Dhawan, who succeeded him and Dr. Brahm Prakash, father of nuclear material.\n",
        "               I was lucky to have worked with all three of them closely and consider this the great opportunity of my life.\n",
        "               I see four milestones in my career\"\"\""
      ],
      "metadata": {
        "id": "69T47Xyunb0t"
      },
      "execution_count": 584,
      "outputs": []
    },
    {
      "cell_type": "markdown",
      "source": [
        "### Tokenization\n"
      ],
      "metadata": {
        "id": "dNTenHI9reyd"
      }
    },
    {
      "cell_type": "code",
      "source": [
        "#Tokenizing sentences : convert paragraph into list of sentences\n",
        "sentences = nltk.sent_tokenize(paragraph)"
      ],
      "metadata": {
        "id": "mJYMWJVBYMO5"
      },
      "execution_count": 585,
      "outputs": []
    },
    {
      "cell_type": "code",
      "source": [
        "sentences"
      ],
      "metadata": {
        "colab": {
          "base_uri": "https://localhost:8080/"
        },
        "id": "B658T5kAxdIb",
        "outputId": "351fe397-c664-454b-ca99-a8e02c2f311a"
      },
      "execution_count": 586,
      "outputs": [
        {
          "output_type": "execute_result",
          "data": {
            "text/plain": [
              "['I have three visions for India.',\n",
              " 'In 3000 years of our history, people from all over\\n               the world have come and invaded us, captured our lands, conquered our minds.',\n",
              " 'From Alexander onwards, the Greeks, the Turks, the Moguls, the Portuguese, the British,\\n               the French, the Dutch, all of them came and looted us, took over what was ours.',\n",
              " 'Yet we have not done this to any other nation.',\n",
              " 'We have not conquered anyone.',\n",
              " 'We have not grabbed their land, their culture,\\n               their history and tried to enforce our way of life on them.',\n",
              " 'Why?',\n",
              " 'Because we respect the freedom of others.That is why my\\n               first vision is that of freedom.',\n",
              " 'I believe that India got its first vision of\\n               this in 1857, when we started the War of Independence.',\n",
              " 'It is this freedom that\\n               we must protect and nurture and build on.',\n",
              " 'If we are not free, no one will respect us.',\n",
              " 'My second vision for India’s development.',\n",
              " 'For fifty years we have been a developing nation.',\n",
              " 'It is time we see ourselves as a developed nation.',\n",
              " 'We are among the top 5 nations of the world\\n               in terms of GDP.',\n",
              " 'We have a 10 percent growth rate in most areas.',\n",
              " 'Our poverty levels are falling.',\n",
              " 'Our achievements are being globally recognised today.',\n",
              " 'Yet we lack the self-confidence to\\n               see ourselves as a developed nation, self-reliant and self-assured.',\n",
              " 'Isn’t this incorrect?',\n",
              " 'I have a third vision.',\n",
              " 'India must stand up to the world.',\n",
              " 'Because I believe that unless India\\n               stands up to the world, no one will respect us.',\n",
              " 'Only strength respects strength.',\n",
              " 'We must be\\n               strong not only as a military power but also as an economic power.',\n",
              " 'Both must go hand-in-hand.',\n",
              " 'My good fortune was to have worked with three great minds.',\n",
              " 'Dr. Vikram Sarabhai of the Dept.',\n",
              " 'of\\n               space, Professor Satish Dhawan, who succeeded him and Dr. Brahm Prakash, father of nuclear material.',\n",
              " 'I was lucky to have worked with all three of them closely and consider this the great opportunity of my life.',\n",
              " 'I see four milestones in my career']"
            ]
          },
          "metadata": {},
          "execution_count": 586
        }
      ]
    },
    {
      "cell_type": "code",
      "source": [
        "#Tokenizing words : convert paragraph into list of words\n",
        "words = nltk.word_tokenize(paragraph)"
      ],
      "metadata": {
        "id": "I1DUjkvcYhE7"
      },
      "execution_count": 587,
      "outputs": []
    },
    {
      "cell_type": "code",
      "source": [
        "len(words)"
      ],
      "metadata": {
        "colab": {
          "base_uri": "https://localhost:8080/"
        },
        "id": "Siu7fpiDrv-L",
        "outputId": "0c1574e7-e8df-4150-8c23-591240271ce9"
      },
      "execution_count": 588,
      "outputs": [
        {
          "output_type": "execute_result",
          "data": {
            "text/plain": [
              "399"
            ]
          },
          "metadata": {},
          "execution_count": 588
        }
      ]
    },
    {
      "cell_type": "markdown",
      "source": [
        "### Stemming"
      ],
      "metadata": {
        "id": "sPRxuCO5sDkj"
      }
    },
    {
      "cell_type": "code",
      "source": [
        "from nltk.corpus import stopwords  #for getting a set of stopwords\n",
        "nltk.download('stopwords')\n",
        "from nltk.stem import PorterStemmer   #stemming algorithm used for word normalization"
      ],
      "metadata": {
        "colab": {
          "base_uri": "https://localhost:8080/"
        },
        "id": "3iAdmqByjdeG",
        "outputId": "cd3ebae7-0c7f-47b8-af23-adfa5a77bb8f"
      },
      "execution_count": 589,
      "outputs": [
        {
          "output_type": "stream",
          "name": "stderr",
          "text": [
            "[nltk_data] Downloading package stopwords to /root/nltk_data...\n",
            "[nltk_data]   Package stopwords is already up-to-date!\n"
          ]
        }
      ]
    },
    {
      "cell_type": "code",
      "source": [
        "#creating instance named stemmer for class PorterStemmer()\n",
        "stemmer = PorterStemmer()"
      ],
      "metadata": {
        "id": "Ww4J2UVMkue9"
      },
      "execution_count": 590,
      "outputs": []
    },
    {
      "cell_type": "code",
      "source": [
        "#convert paragraph into list of sentences\n",
        "sentences = nltk.sent_tokenize(paragraph)"
      ],
      "metadata": {
        "id": "cBHFtLfMtcjs"
      },
      "execution_count": 591,
      "outputs": []
    },
    {
      "cell_type": "code",
      "source": [
        "#convert/tokenize paragraph into list of words/tokens\n",
        "words = nltk.word_tokenize(paragraph)"
      ],
      "metadata": {
        "id": "sMn6_9xrx4BX"
      },
      "execution_count": 592,
      "outputs": []
    },
    {
      "cell_type": "code",
      "source": [
        "len(sentences)"
      ],
      "metadata": {
        "colab": {
          "base_uri": "https://localhost:8080/"
        },
        "id": "UBg6bmDrtk8Z",
        "outputId": "c1824117-2dc3-4558-b84c-45719fcb7be1"
      },
      "execution_count": 593,
      "outputs": [
        {
          "output_type": "execute_result",
          "data": {
            "text/plain": [
              "31"
            ]
          },
          "metadata": {},
          "execution_count": 593
        }
      ]
    },
    {
      "cell_type": "code",
      "source": [
        "range(len(sentences))"
      ],
      "metadata": {
        "colab": {
          "base_uri": "https://localhost:8080/"
        },
        "id": "XDBrxDfxtww1",
        "outputId": "30befe14-79a9-49ea-ffe4-9509b919e48e"
      },
      "execution_count": 594,
      "outputs": [
        {
          "output_type": "execute_result",
          "data": {
            "text/plain": [
              "range(0, 31)"
            ]
          },
          "metadata": {},
          "execution_count": 594
        }
      ]
    },
    {
      "cell_type": "code",
      "source": [
        "# Stemming the sentences\n",
        "for i in range(len(sentences)):\n",
        "    words = nltk.word_tokenize(sentences[i])\n",
        "    words = [stemmer.stem(word) for word in words if word not in set(stopwords.words('english'))]\n",
        "    sentences[i] = ' '.join(words)"
      ],
      "metadata": {
        "id": "2PPiq2vynX9p"
      },
      "execution_count": 595,
      "outputs": []
    },
    {
      "cell_type": "code",
      "source": [
        "sentences"
      ],
      "metadata": {
        "colab": {
          "base_uri": "https://localhost:8080/"
        },
        "id": "0JfmrwCIn0XI",
        "outputId": "b0c86c68-984b-419b-cca9-a5d02fca7045"
      },
      "execution_count": 596,
      "outputs": [
        {
          "output_type": "execute_result",
          "data": {
            "text/plain": [
              "['i three vision india .',\n",
              " 'in 3000 year histori , peopl world come invad us , captur land , conquer mind .',\n",
              " 'from alexand onward , greek , turk , mogul , portugues , british , french , dutch , came loot us , took .',\n",
              " 'yet done nation .',\n",
              " 'we conquer anyon .',\n",
              " 'we grab land , cultur , histori tri enforc way life .',\n",
              " 'whi ?',\n",
              " 'becaus respect freedom others.that first vision freedom .',\n",
              " 'i believ india got first vision 1857 , start war independ .',\n",
              " 'it freedom must protect nurtur build .',\n",
              " 'if free , one respect us .',\n",
              " 'my second vision india ’ develop .',\n",
              " 'for fifti year develop nation .',\n",
              " 'it time see develop nation .',\n",
              " 'we among top 5 nation world term gdp .',\n",
              " 'we 10 percent growth rate area .',\n",
              " 'our poverti level fall .',\n",
              " 'our achiev global recognis today .',\n",
              " 'yet lack self-confid see develop nation , self-reli self-assur .',\n",
              " 'isn ’ incorrect ?',\n",
              " 'i third vision .',\n",
              " 'india must stand world .',\n",
              " 'becaus i believ unless india stand world , one respect us .',\n",
              " 'onli strength respect strength .',\n",
              " 'we must strong militari power also econom power .',\n",
              " 'both must go hand-in-hand .',\n",
              " 'my good fortun work three great mind .',\n",
              " 'dr. vikram sarabhai dept .',\n",
              " 'space , professor satish dhawan , succeed dr. brahm prakash , father nuclear materi .',\n",
              " 'i lucki work three close consid great opportun life .',\n",
              " 'i see four mileston career']"
            ]
          },
          "metadata": {},
          "execution_count": 596
        }
      ]
    },
    {
      "cell_type": "code",
      "source": [
        "# Print each processed sentence\n",
        "for sentence in sentences:\n",
        "    print(sentence)"
      ],
      "metadata": {
        "colab": {
          "base_uri": "https://localhost:8080/"
        },
        "id": "SrMgexRs2XpK",
        "outputId": "633fc247-18d7-4045-ac30-6f0a893e8d39"
      },
      "execution_count": 597,
      "outputs": [
        {
          "output_type": "stream",
          "name": "stdout",
          "text": [
            "i three vision india .\n",
            "in 3000 year histori , peopl world come invad us , captur land , conquer mind .\n",
            "from alexand onward , greek , turk , mogul , portugues , british , french , dutch , came loot us , took .\n",
            "yet done nation .\n",
            "we conquer anyon .\n",
            "we grab land , cultur , histori tri enforc way life .\n",
            "whi ?\n",
            "becaus respect freedom others.that first vision freedom .\n",
            "i believ india got first vision 1857 , start war independ .\n",
            "it freedom must protect nurtur build .\n",
            "if free , one respect us .\n",
            "my second vision india ’ develop .\n",
            "for fifti year develop nation .\n",
            "it time see develop nation .\n",
            "we among top 5 nation world term gdp .\n",
            "we 10 percent growth rate area .\n",
            "our poverti level fall .\n",
            "our achiev global recognis today .\n",
            "yet lack self-confid see develop nation , self-reli self-assur .\n",
            "isn ’ incorrect ?\n",
            "i third vision .\n",
            "india must stand world .\n",
            "becaus i believ unless india stand world , one respect us .\n",
            "onli strength respect strength .\n",
            "we must strong militari power also econom power .\n",
            "both must go hand-in-hand .\n",
            "my good fortun work three great mind .\n",
            "dr. vikram sarabhai dept .\n",
            "space , professor satish dhawan , succeed dr. brahm prakash , father nuclear materi .\n",
            "i lucki work three close consid great opportun life .\n",
            "i see four mileston career\n"
          ]
        }
      ]
    },
    {
      "cell_type": "code",
      "source": [
        "# for loop iteration to know the token in the list of sentences\n",
        "# for i in range(len(sentences)):\n",
        "#   words = nltk.word_tokenize(sentences[i])\n",
        "# print(words)"
      ],
      "metadata": {
        "id": "rzJOG-x_2Xln"
      },
      "execution_count": 598,
      "outputs": []
    },
    {
      "cell_type": "code",
      "source": [
        "#stemmed words after removing the stopwords contained in words\n",
        "# words = [stemmer.stem(word) for word in words if word not in set(stopwords.words('english'))]\n",
        "# print(words)\n"
      ],
      "metadata": {
        "id": "genXEqn82Xi9"
      },
      "execution_count": 599,
      "outputs": []
    },
    {
      "cell_type": "code",
      "source": [
        "#joining the stemmmed words sentences after removing stopwords into a sentence back again.\n",
        "# sentences = ' '.join(words)\n",
        "# print(sentences)"
      ],
      "metadata": {
        "id": "rZejyZTP3QMs"
      },
      "execution_count": 600,
      "outputs": []
    },
    {
      "cell_type": "markdown",
      "source": [
        "### Lemmatization"
      ],
      "metadata": {
        "id": "DWgUK7USKj1B"
      }
    },
    {
      "cell_type": "code",
      "source": [
        "from nltk.corpus import stopwords\n",
        "nltk.download('wordnet')\n",
        "from nltk.stem import WordNetLemmatizer   #lemmatizing algorithm used for word normalization"
      ],
      "metadata": {
        "colab": {
          "base_uri": "https://localhost:8080/"
        },
        "id": "mZ7CeDTdKrsW",
        "outputId": "3dd31e52-1471-4829-933c-eb73f73a9604"
      },
      "execution_count": 601,
      "outputs": [
        {
          "output_type": "stream",
          "name": "stderr",
          "text": [
            "[nltk_data] Downloading package wordnet to /root/nltk_data...\n",
            "[nltk_data]   Package wordnet is already up-to-date!\n"
          ]
        }
      ]
    },
    {
      "cell_type": "code",
      "source": [
        "#creating instance named stemmer for class PorterStemmer()\n",
        "lemmatizer = WordNetLemmatizer()"
      ],
      "metadata": {
        "id": "vjllAfmzLLPO"
      },
      "execution_count": 602,
      "outputs": []
    },
    {
      "cell_type": "code",
      "source": [
        "#convert paragraph into list of sentences\n",
        "sentences = nltk.sent_tokenize(paragraph)"
      ],
      "metadata": {
        "id": "_tMPi2p33ym_"
      },
      "execution_count": 603,
      "outputs": []
    },
    {
      "cell_type": "code",
      "source": [
        "len(sentences)"
      ],
      "metadata": {
        "colab": {
          "base_uri": "https://localhost:8080/"
        },
        "id": "hUpahCLhLyC3",
        "outputId": "e0cb8f86-95dc-489c-ae6c-aabebec09fb7"
      },
      "execution_count": 604,
      "outputs": [
        {
          "output_type": "execute_result",
          "data": {
            "text/plain": [
              "31"
            ]
          },
          "metadata": {},
          "execution_count": 604
        }
      ]
    },
    {
      "cell_type": "code",
      "source": [
        "range(len(sentences))"
      ],
      "metadata": {
        "colab": {
          "base_uri": "https://localhost:8080/"
        },
        "id": "8sdrpdHVMPtb",
        "outputId": "75972475-403a-4f59-f803-4f375cfd9a6a"
      },
      "execution_count": 605,
      "outputs": [
        {
          "output_type": "execute_result",
          "data": {
            "text/plain": [
              "range(0, 31)"
            ]
          },
          "metadata": {},
          "execution_count": 605
        }
      ]
    },
    {
      "cell_type": "code",
      "source": [
        "# Lemmatization\n",
        "for i in range(len(sentences)):\n",
        "    words = nltk.word_tokenize(sentences[i])\n",
        "    words = [lemmatizer.lemmatize(word) for word in words if word not in set(stopwords.words('english'))]\n",
        "    sentences[i] = ' '.join(words)"
      ],
      "metadata": {
        "id": "Hp5envhn3yul"
      },
      "execution_count": 606,
      "outputs": []
    },
    {
      "cell_type": "code",
      "source": [
        "sentences"
      ],
      "metadata": {
        "colab": {
          "base_uri": "https://localhost:8080/"
        },
        "id": "zO92Hazp2XfV",
        "outputId": "1680d22e-46af-47c5-c47b-19c68635c8ab"
      },
      "execution_count": 607,
      "outputs": [
        {
          "output_type": "execute_result",
          "data": {
            "text/plain": [
              "['I three vision India .',\n",
              " 'In 3000 year history , people world come invaded u , captured land , conquered mind .',\n",
              " 'From Alexander onwards , Greeks , Turks , Moguls , Portuguese , British , French , Dutch , came looted u , took .',\n",
              " 'Yet done nation .',\n",
              " 'We conquered anyone .',\n",
              " 'We grabbed land , culture , history tried enforce way life .',\n",
              " 'Why ?',\n",
              " 'Because respect freedom others.That first vision freedom .',\n",
              " 'I believe India got first vision 1857 , started War Independence .',\n",
              " 'It freedom must protect nurture build .',\n",
              " 'If free , one respect u .',\n",
              " 'My second vision India ’ development .',\n",
              " 'For fifty year developing nation .',\n",
              " 'It time see developed nation .',\n",
              " 'We among top 5 nation world term GDP .',\n",
              " 'We 10 percent growth rate area .',\n",
              " 'Our poverty level falling .',\n",
              " 'Our achievement globally recognised today .',\n",
              " 'Yet lack self-confidence see developed nation , self-reliant self-assured .',\n",
              " 'Isn ’ incorrect ?',\n",
              " 'I third vision .',\n",
              " 'India must stand world .',\n",
              " 'Because I believe unless India stand world , one respect u .',\n",
              " 'Only strength respect strength .',\n",
              " 'We must strong military power also economic power .',\n",
              " 'Both must go hand-in-hand .',\n",
              " 'My good fortune worked three great mind .',\n",
              " 'Dr. Vikram Sarabhai Dept .',\n",
              " 'space , Professor Satish Dhawan , succeeded Dr. Brahm Prakash , father nuclear material .',\n",
              " 'I lucky worked three closely consider great opportunity life .',\n",
              " 'I see four milestone career']"
            ]
          },
          "metadata": {},
          "execution_count": 607
        }
      ]
    },
    {
      "cell_type": "markdown",
      "source": [
        "### Bag Of Words"
      ],
      "metadata": {
        "id": "bM5Y0I5ivgi5"
      }
    },
    {
      "cell_type": "code",
      "source": [
        "# Cleaning the texts\n",
        "import re   #regular expression library for text regularization\n",
        "from nltk.corpus import stopwords\n",
        "from nltk.stem.porter import PorterStemmer\n",
        "from nltk.stem import WordNetLemmatizer"
      ],
      "metadata": {
        "id": "3b7QLIPOvee0"
      },
      "execution_count": 608,
      "outputs": []
    },
    {
      "cell_type": "code",
      "source": [
        "ps = PorterStemmer()\n",
        "wordnet=WordNetLemmatizer()"
      ],
      "metadata": {
        "id": "rzEk-ZU8vd4M"
      },
      "execution_count": 609,
      "outputs": []
    },
    {
      "cell_type": "code",
      "source": [
        "paragraph =  \"\"\"I have three visions for India. In 3000 years of our history, people from all over\n",
        "               the world have come and invaded us, captured our lands, conquered our minds.\n",
        "               From Alexander onwards, the Greeks, the Turks, the Moguls, the Portuguese, the British,\n",
        "               the French, the Dutch, all of them came and looted us, took over what was ours.\n",
        "               Yet we have not done this to any other nation. We have not conquered anyone.\n",
        "               We have not grabbed their land, their culture,\n",
        "               their history and tried to enforce our way of life on them.\n",
        "               Why? Because we respect the freedom of others.That is why my\n",
        "               first vision is that of freedom. I believe that India got its first vision of\n",
        "               this in 1857, when we started the War of Independence. It is this freedom that\n",
        "               we must protect and nurture and build on. If we are not free, no one will respect us.\n",
        "               My second vision for India’s development. For fifty years we have been a developing nation.\n",
        "               It is time we see ourselves as a developed nation. We are among the top 5 nations of the world\n",
        "               in terms of GDP. We have a 10 percent growth rate in most areas. Our poverty levels are falling.\n",
        "               Our achievements are being globally recognised today. Yet we lack the self-confidence to\n",
        "               see ourselves as a developed nation, self-reliant and self-assured. Isn’t this incorrect?\n",
        "               I have a third vision. India must stand up to the world. Because I believe that unless India\n",
        "               stands up to the world, no one will respect us. Only strength respects strength. We must be\n",
        "               strong not only as a military power but also as an economic power. Both must go hand-in-hand.\n",
        "               My good fortune was to have worked with three great minds. Dr. Vikram Sarabhai of the Dept. of\n",
        "               space, Professor Satish Dhawan, who succeeded him and Dr. Brahm Prakash, father of nuclear material.\n",
        "               I was lucky to have worked with all three of them closely and consider this the great opportunity of my life.\n",
        "               I see four milestones in my career\"\"\""
      ],
      "metadata": {
        "id": "qH08cZwHxKPb"
      },
      "execution_count": 610,
      "outputs": []
    },
    {
      "cell_type": "code",
      "source": [
        "sentences = nltk.sent_tokenize(paragraph)"
      ],
      "metadata": {
        "id": "2nYIZJKPwc4M"
      },
      "execution_count": 611,
      "outputs": []
    },
    {
      "cell_type": "code",
      "source": [
        "###Stemming BOG"
      ],
      "metadata": {
        "id": "TJOQkHMHy2xG"
      },
      "execution_count": 612,
      "outputs": []
    },
    {
      "cell_type": "code",
      "source": [
        "corpus = []\n",
        "for i in range(len(sentences)):\n",
        "    review = re.sub('[^a-zA-Z]', ' ', sentences[i])  #uses the re.sub function from the re module to replace any non-alphabetic character(numbers, punctuation,) with space\n",
        "    review = review.lower()                          #lowering helps in standardizing the text, as the BOW model typically treats words with different cases as distinct words\n",
        "    review = review.split()                          #splits the processed sentence into a list of words or tokens\n",
        "    review = [ps.stem(word) for word in review if not word in set(stopwords.words('english'))]  #refer text bolow\n",
        "    review = ' '.join(review)                        #' '.join(review) joins the processed words back into a single string with words separated by spaces\n",
        "    corpus.append(review)                            #The processed sentence is appended to the corpus list"
      ],
      "metadata": {
        "id": "iRPkzPd-wcSO"
      },
      "execution_count": 613,
      "outputs": []
    },
    {
      "cell_type": "markdown",
      "source": [
        "[ps.stem(word) for word in review if not word in set(stopwords.words('english'))] is a list comprehension that iterates over the tokenized words in the review list. It removes any word that is present in the set of English stopwords using stopwords.words('english'), and then applies stemming to each remaining word using the Porter Stemmer (ps.stem(word)). This step removes common words that do not carry significant meaning and reduces words to their base form."
      ],
      "metadata": {
        "id": "UxkaWqEXKcx-"
      }
    },
    {
      "cell_type": "code",
      "source": [
        "review"
      ],
      "metadata": {
        "colab": {
          "base_uri": "https://localhost:8080/",
          "height": 36
        },
        "id": "tiDFTYmyw_0U",
        "outputId": "e7359cae-e82f-434b-83f0-174dea415529"
      },
      "execution_count": 614,
      "outputs": [
        {
          "output_type": "execute_result",
          "data": {
            "text/plain": [
              "'see four mileston career'"
            ],
            "application/vnd.google.colaboratory.intrinsic+json": {
              "type": "string"
            }
          },
          "metadata": {},
          "execution_count": 614
        }
      ]
    },
    {
      "cell_type": "code",
      "source": [
        "corpus"
      ],
      "metadata": {
        "colab": {
          "base_uri": "https://localhost:8080/"
        },
        "id": "Q-sNBk3zvduc",
        "outputId": "7b86cd31-89b3-483d-cf38-f46b691873b6"
      },
      "execution_count": 615,
      "outputs": [
        {
          "output_type": "execute_result",
          "data": {
            "text/plain": [
              "['three vision india',\n",
              " 'year histori peopl world come invad us captur land conquer mind',\n",
              " 'alexand onward greek turk mogul portugues british french dutch came loot us took',\n",
              " 'yet done nation',\n",
              " 'conquer anyon',\n",
              " 'grab land cultur histori tri enforc way life',\n",
              " '',\n",
              " 'respect freedom other first vision freedom',\n",
              " 'believ india got first vision start war independ',\n",
              " 'freedom must protect nurtur build',\n",
              " 'free one respect us',\n",
              " 'second vision india develop',\n",
              " 'fifti year develop nation',\n",
              " 'time see develop nation',\n",
              " 'among top nation world term gdp',\n",
              " 'percent growth rate area',\n",
              " 'poverti level fall',\n",
              " 'achiev global recognis today',\n",
              " 'yet lack self confid see develop nation self reliant self assur',\n",
              " 'incorrect',\n",
              " 'third vision',\n",
              " 'india must stand world',\n",
              " 'believ unless india stand world one respect us',\n",
              " 'strength respect strength',\n",
              " 'must strong militari power also econom power',\n",
              " 'must go hand hand',\n",
              " 'good fortun work three great mind',\n",
              " 'dr vikram sarabhai dept',\n",
              " 'space professor satish dhawan succeed dr brahm prakash father nuclear materi',\n",
              " 'lucki work three close consid great opportun life',\n",
              " 'see four mileston career']"
            ]
          },
          "metadata": {},
          "execution_count": 615
        }
      ]
    },
    {
      "cell_type": "code",
      "source": [
        "# Creating the Bag of Words model\n",
        "from sklearn.feature_extraction.text import CountVectorizer  #tool/class used to convert text data into a numerical feature matrix\n",
        "cv = CountVectorizer(max_features = 1500)   #cv instance for class CountVectorizer having max_features limit set to limit no. of features/words in BOW feature matrix to avoid high dimensionality\n",
        "X = cv.fit_transform(corpus).toarray() #see text below"
      ],
      "metadata": {
        "id": "SQY8i2vJvdiA"
      },
      "execution_count": 616,
      "outputs": []
    },
    {
      "cell_type": "markdown",
      "source": [
        "3.1. Fitting the CountVectorizer:\n",
        "cv.fit_transform(corpus) is used to fit the CountVectorizer to the corpus. During this step, the CountVectorizer learns the vocabulary of the entire corpus and assigns an index to each unique word (feature) in the vocabulary.\n",
        "\n",
        "3.2. Transforming the corpus to a feature matrix:\n",
        "The fit_transform() method transforms the corpus into a numerical feature matrix. Each row in the X matrix represents a document (sentence) from the corpus, and each column represents a word from the vocabulary. The value in each cell indicates the count of how many times the corresponding word appears in the respective document.\n",
        "\n",
        "3.3. Converting the sparse matrix to an array:\n",
        "The result of fit_transform() is a sparse matrix, but the code then converts it into a dense NumPy array using .toarray(). The resulting X is now a 2-dimensional array (matrix) containing the Bag of Words representation of the corpus."
      ],
      "metadata": {
        "id": "YlgUnoXwPQYX"
      }
    },
    {
      "cell_type": "code",
      "source": [
        "X"
      ],
      "metadata": {
        "colab": {
          "base_uri": "https://localhost:8080/"
        },
        "id": "dQYlskSSx41Y",
        "outputId": "add33d03-36ef-4ef0-91b2-f509017ab38d"
      },
      "execution_count": 617,
      "outputs": [
        {
          "output_type": "execute_result",
          "data": {
            "text/plain": [
              "array([[0, 0, 0, ..., 0, 0, 0],\n",
              "       [0, 0, 0, ..., 1, 1, 0],\n",
              "       [0, 1, 0, ..., 0, 0, 0],\n",
              "       ...,\n",
              "       [0, 0, 0, ..., 0, 0, 0],\n",
              "       [0, 0, 0, ..., 0, 0, 0],\n",
              "       [0, 0, 0, ..., 0, 0, 0]])"
            ]
          },
          "metadata": {},
          "execution_count": 617
        }
      ]
    },
    {
      "cell_type": "code",
      "source": [
        "X.shape"
      ],
      "metadata": {
        "colab": {
          "base_uri": "https://localhost:8080/"
        },
        "id": "2-AFvMDsgZyk",
        "outputId": "f0516d5c-129d-48fe-8e14-3c4092a62bcc"
      },
      "execution_count": 618,
      "outputs": [
        {
          "output_type": "execute_result",
          "data": {
            "text/plain": [
              "(31, 113)"
            ]
          },
          "metadata": {},
          "execution_count": 618
        }
      ]
    },
    {
      "cell_type": "code",
      "source": [
        "###Lemmatization BOG"
      ],
      "metadata": {
        "id": "uvb6nGr8x4ve"
      },
      "execution_count": 619,
      "outputs": []
    },
    {
      "cell_type": "code",
      "source": [
        "corpus = []\n",
        "for i in range(len(sentences)):\n",
        "    review = re.sub('[^a-zA-Z]', ' ', sentences[i])\n",
        "    review = review.lower()\n",
        "    review = review.split()\n",
        "    review = [wordnet.lemmatize(word) for word in review if not word in set(stopwords.words('english'))]\n",
        "    review = ' '.join(review)\n",
        "    corpus.append(review)"
      ],
      "metadata": {
        "id": "Jvx6Mi0Wx4p6"
      },
      "execution_count": 620,
      "outputs": []
    },
    {
      "cell_type": "code",
      "source": [
        "review"
      ],
      "metadata": {
        "colab": {
          "base_uri": "https://localhost:8080/",
          "height": 36
        },
        "id": "4BMyt-dZx4ij",
        "outputId": "953ccd25-db94-4515-89a8-2ffd3aacd2d3"
      },
      "execution_count": 621,
      "outputs": [
        {
          "output_type": "execute_result",
          "data": {
            "text/plain": [
              "'see four milestone career'"
            ],
            "application/vnd.google.colaboratory.intrinsic+json": {
              "type": "string"
            }
          },
          "metadata": {},
          "execution_count": 621
        }
      ]
    },
    {
      "cell_type": "code",
      "source": [
        "corpus"
      ],
      "metadata": {
        "colab": {
          "base_uri": "https://localhost:8080/"
        },
        "id": "45RMHJ-Yx4Xq",
        "outputId": "a92a3fc3-e313-407a-9ed6-bc412cfffbb3"
      },
      "execution_count": 622,
      "outputs": [
        {
          "output_type": "execute_result",
          "data": {
            "text/plain": [
              "['three vision india',\n",
              " 'year history people world come invaded u captured land conquered mind',\n",
              " 'alexander onwards greek turk mogul portuguese british french dutch came looted u took',\n",
              " 'yet done nation',\n",
              " 'conquered anyone',\n",
              " 'grabbed land culture history tried enforce way life',\n",
              " '',\n",
              " 'respect freedom others first vision freedom',\n",
              " 'believe india got first vision started war independence',\n",
              " 'freedom must protect nurture build',\n",
              " 'free one respect u',\n",
              " 'second vision india development',\n",
              " 'fifty year developing nation',\n",
              " 'time see developed nation',\n",
              " 'among top nation world term gdp',\n",
              " 'percent growth rate area',\n",
              " 'poverty level falling',\n",
              " 'achievement globally recognised today',\n",
              " 'yet lack self confidence see developed nation self reliant self assured',\n",
              " 'incorrect',\n",
              " 'third vision',\n",
              " 'india must stand world',\n",
              " 'believe unless india stand world one respect u',\n",
              " 'strength respect strength',\n",
              " 'must strong military power also economic power',\n",
              " 'must go hand hand',\n",
              " 'good fortune worked three great mind',\n",
              " 'dr vikram sarabhai dept',\n",
              " 'space professor satish dhawan succeeded dr brahm prakash father nuclear material',\n",
              " 'lucky worked three closely consider great opportunity life',\n",
              " 'see four milestone career']"
            ]
          },
          "metadata": {},
          "execution_count": 622
        }
      ]
    },
    {
      "cell_type": "code",
      "source": [
        "# Creating the Bag of Words model\n",
        "from sklearn.feature_extraction.text import CountVectorizer\n",
        "cv = CountVectorizer(max_features = 1500)\n",
        "X = cv.fit_transform(corpus).toarray()"
      ],
      "metadata": {
        "id": "6_gqQENqvdRR"
      },
      "execution_count": 623,
      "outputs": []
    },
    {
      "cell_type": "code",
      "source": [
        "X"
      ],
      "metadata": {
        "colab": {
          "base_uri": "https://localhost:8080/"
        },
        "id": "YR7g9c1gvcJT",
        "outputId": "0f9a8245-5444-4088-dfb9-22461023c7f2"
      },
      "execution_count": 624,
      "outputs": [
        {
          "output_type": "execute_result",
          "data": {
            "text/plain": [
              "array([[0, 0, 0, ..., 0, 0, 0],\n",
              "       [0, 0, 0, ..., 1, 1, 0],\n",
              "       [0, 1, 0, ..., 0, 0, 0],\n",
              "       ...,\n",
              "       [0, 0, 0, ..., 0, 0, 0],\n",
              "       [0, 0, 0, ..., 0, 0, 0],\n",
              "       [0, 0, 0, ..., 0, 0, 0]])"
            ]
          },
          "metadata": {},
          "execution_count": 624
        }
      ]
    },
    {
      "cell_type": "code",
      "source": [
        "X.shape"
      ],
      "metadata": {
        "id": "bi-h4OjRzsV1",
        "colab": {
          "base_uri": "https://localhost:8080/"
        },
        "outputId": "a9da1781-0c7b-47c5-9e03-b7e661d7c37a"
      },
      "execution_count": 625,
      "outputs": [
        {
          "output_type": "execute_result",
          "data": {
            "text/plain": [
              "(31, 114)"
            ]
          },
          "metadata": {},
          "execution_count": 625
        }
      ]
    },
    {
      "cell_type": "markdown",
      "source": [
        "### TF-IDF"
      ],
      "metadata": {
        "id": "LdQWQ5vvfkS2"
      }
    },
    {
      "cell_type": "code",
      "source": [
        "#due some advantages of lemmatization over stemmer i am only using lemmatization here\n",
        "wordnet=WordNetLemmatizer()"
      ],
      "metadata": {
        "id": "QbxkrGvVzrud"
      },
      "execution_count": 626,
      "outputs": []
    },
    {
      "cell_type": "code",
      "source": [
        "sentences = nltk.sent_tokenize(paragraph)"
      ],
      "metadata": {
        "id": "1T_To3ivzrUk"
      },
      "execution_count": 627,
      "outputs": []
    },
    {
      "cell_type": "code",
      "source": [
        "corpus = []\n",
        "for i in range(len(sentences)):\n",
        "    review = re.sub('[^a-zA-Z]', ' ', sentences[i])\n",
        "    review = review.lower()\n",
        "    review = review.split()\n",
        "    review = [wordnet.lemmatize(word) for word in review if not word in set(stopwords.words('english'))]\n",
        "    review = ' '.join(review)\n",
        "    corpus.append(review)"
      ],
      "metadata": {
        "id": "VLk6v0fizrNA"
      },
      "execution_count": 628,
      "outputs": []
    },
    {
      "cell_type": "code",
      "source": [
        "# Creating the TF-IDF model\n",
        "from sklearn.feature_extraction.text import TfidfVectorizer\n",
        "cv = TfidfVectorizer()\n",
        "X = cv.fit_transform(corpus).toarray()"
      ],
      "metadata": {
        "id": "Jdmw6nTLzrGb"
      },
      "execution_count": 629,
      "outputs": []
    },
    {
      "cell_type": "code",
      "source": [
        "X #see TF-IDF has given more importance to words but not others"
      ],
      "metadata": {
        "colab": {
          "base_uri": "https://localhost:8080/"
        },
        "id": "yqjoHzNlgh9H",
        "outputId": "d769b024-b4ac-43a1-bdbf-d420c9ae63fd"
      },
      "execution_count": 630,
      "outputs": [
        {
          "output_type": "execute_result",
          "data": {
            "text/plain": [
              "array([[0.        , 0.        , 0.        , ..., 0.        , 0.        ,\n",
              "        0.        ],\n",
              "       [0.        , 0.        , 0.        , ..., 0.25883507, 0.30512561,\n",
              "        0.        ],\n",
              "       [0.        , 0.28867513, 0.        , ..., 0.        , 0.        ,\n",
              "        0.        ],\n",
              "       ...,\n",
              "       [0.        , 0.        , 0.        , ..., 0.        , 0.        ,\n",
              "        0.        ],\n",
              "       [0.        , 0.        , 0.        , ..., 0.        , 0.        ,\n",
              "        0.        ],\n",
              "       [0.        , 0.        , 0.        , ..., 0.        , 0.        ,\n",
              "        0.        ]])"
            ]
          },
          "metadata": {},
          "execution_count": 630
        }
      ]
    },
    {
      "cell_type": "code",
      "source": [
        "X.shape"
      ],
      "metadata": {
        "colab": {
          "base_uri": "https://localhost:8080/"
        },
        "id": "sRXVSvHegmvb",
        "outputId": "c8f2bd0b-c2ed-45f5-abe7-f93180d1dd97"
      },
      "execution_count": 631,
      "outputs": [
        {
          "output_type": "execute_result",
          "data": {
            "text/plain": [
              "(31, 114)"
            ]
          },
          "metadata": {},
          "execution_count": 631
        }
      ]
    },
    {
      "cell_type": "markdown",
      "source": [
        "### Word2Vec"
      ],
      "metadata": {
        "id": "5lsstG3sg-WU"
      }
    },
    {
      "cell_type": "code",
      "source": [
        "from gensim.models import Word2Vec #Word2Vec is class from the Gensim library used for training word embeddings\n",
        "from nltk.corpus import stopwords\n",
        "import re #regular expression"
      ],
      "metadata": {
        "id": "XT6OEPxIhHru"
      },
      "execution_count": 632,
      "outputs": []
    },
    {
      "cell_type": "markdown",
      "source": [
        "The provided code snippet demonstrates the use of the Word2Vec model from the Gensim library in Python for word embedding. It aims to train word embeddings on a corpus of text data. Word embeddings are dense vector representations of words in a continuous vector space, where semantically similar words are closer together in the vector space."
      ],
      "metadata": {
        "id": "_WdfdjfeD0iQ"
      }
    },
    {
      "cell_type": "code",
      "source": [
        "# Preparing the dataset or Preprocessing the Text Data:\n",
        "sentences = nltk.sent_tokenize(paragraph) #list of sentences\n",
        "\n",
        "words = nltk.word_tokenize(paragraph)  #list of tokens/words"
      ],
      "metadata": {
        "id": "hPwgJJVGEK4S"
      },
      "execution_count": 633,
      "outputs": []
    },
    {
      "cell_type": "code",
      "source": [
        "#Removing Stopwords and Non-alphabetic Characters:\n",
        "corpus = [re.sub('[^a-zA-Z]', ' ', sentence).lower().split() for sentence in corpus]"
      ],
      "metadata": {
        "id": "B6xSeKGdEK2n"
      },
      "execution_count": 634,
      "outputs": []
    },
    {
      "cell_type": "code",
      "source": [
        "corpus"
      ],
      "metadata": {
        "colab": {
          "base_uri": "https://localhost:8080/"
        },
        "id": "PyAjzTNlTSI9",
        "outputId": "923b1814-3a24-480e-8305-73f1f0d833d3"
      },
      "execution_count": 635,
      "outputs": [
        {
          "output_type": "execute_result",
          "data": {
            "text/plain": [
              "[['three', 'vision', 'india'],\n",
              " ['year',\n",
              "  'history',\n",
              "  'people',\n",
              "  'world',\n",
              "  'come',\n",
              "  'invaded',\n",
              "  'u',\n",
              "  'captured',\n",
              "  'land',\n",
              "  'conquered',\n",
              "  'mind'],\n",
              " ['alexander',\n",
              "  'onwards',\n",
              "  'greek',\n",
              "  'turk',\n",
              "  'mogul',\n",
              "  'portuguese',\n",
              "  'british',\n",
              "  'french',\n",
              "  'dutch',\n",
              "  'came',\n",
              "  'looted',\n",
              "  'u',\n",
              "  'took'],\n",
              " ['yet', 'done', 'nation'],\n",
              " ['conquered', 'anyone'],\n",
              " ['grabbed', 'land', 'culture', 'history', 'tried', 'enforce', 'way', 'life'],\n",
              " [],\n",
              " ['respect', 'freedom', 'others', 'first', 'vision', 'freedom'],\n",
              " ['believe',\n",
              "  'india',\n",
              "  'got',\n",
              "  'first',\n",
              "  'vision',\n",
              "  'started',\n",
              "  'war',\n",
              "  'independence'],\n",
              " ['freedom', 'must', 'protect', 'nurture', 'build'],\n",
              " ['free', 'one', 'respect', 'u'],\n",
              " ['second', 'vision', 'india', 'development'],\n",
              " ['fifty', 'year', 'developing', 'nation'],\n",
              " ['time', 'see', 'developed', 'nation'],\n",
              " ['among', 'top', 'nation', 'world', 'term', 'gdp'],\n",
              " ['percent', 'growth', 'rate', 'area'],\n",
              " ['poverty', 'level', 'falling'],\n",
              " ['achievement', 'globally', 'recognised', 'today'],\n",
              " ['yet',\n",
              "  'lack',\n",
              "  'self',\n",
              "  'confidence',\n",
              "  'see',\n",
              "  'developed',\n",
              "  'nation',\n",
              "  'self',\n",
              "  'reliant',\n",
              "  'self',\n",
              "  'assured'],\n",
              " ['incorrect'],\n",
              " ['third', 'vision'],\n",
              " ['india', 'must', 'stand', 'world'],\n",
              " ['believe', 'unless', 'india', 'stand', 'world', 'one', 'respect', 'u'],\n",
              " ['strength', 'respect', 'strength'],\n",
              " ['must', 'strong', 'military', 'power', 'also', 'economic', 'power'],\n",
              " ['must', 'go', 'hand', 'hand'],\n",
              " ['good', 'fortune', 'worked', 'three', 'great', 'mind'],\n",
              " ['dr', 'vikram', 'sarabhai', 'dept'],\n",
              " ['space',\n",
              "  'professor',\n",
              "  'satish',\n",
              "  'dhawan',\n",
              "  'succeeded',\n",
              "  'dr',\n",
              "  'brahm',\n",
              "  'prakash',\n",
              "  'father',\n",
              "  'nuclear',\n",
              "  'material'],\n",
              " ['lucky',\n",
              "  'worked',\n",
              "  'three',\n",
              "  'closely',\n",
              "  'consider',\n",
              "  'great',\n",
              "  'opportunity',\n",
              "  'life'],\n",
              " ['see', 'four', 'milestone', 'career']]"
            ]
          },
          "metadata": {},
          "execution_count": 635
        }
      ]
    },
    {
      "cell_type": "code",
      "source": [
        "#Chat GPT\n",
        "#Training the Word2Vec Model:\n",
        "model = Word2Vec(sentences=corpus, vector_size=100, window=5, min_count=1, workers=4)"
      ],
      "metadata": {
        "id": "a1N8SH9GEK0p"
      },
      "execution_count": 636,
      "outputs": []
    },
    {
      "cell_type": "code",
      "source": [
        "model"
      ],
      "metadata": {
        "colab": {
          "base_uri": "https://localhost:8080/"
        },
        "id": "Zp0uEuEPEKy4",
        "outputId": "d1904f01-5b11-49cc-f430-b3ec6f28e493"
      },
      "execution_count": 637,
      "outputs": [
        {
          "output_type": "execute_result",
          "data": {
            "text/plain": [
              "<gensim.models.word2vec.Word2Vec at 0x7bfb11885450>"
            ]
          },
          "metadata": {},
          "execution_count": 637
        }
      ]
    },
    {
      "cell_type": "code",
      "source": [
        "# Finding Word Vectors\n",
        "vector = model.wv['great']\n",
        "vector"
      ],
      "metadata": {
        "colab": {
          "base_uri": "https://localhost:8080/"
        },
        "id": "TL_uzcyVOuLp",
        "outputId": "9bfdaf72-4266-4e78-d74b-958992a02e35"
      },
      "execution_count": 638,
      "outputs": [
        {
          "output_type": "execute_result",
          "data": {
            "text/plain": [
              "array([ 8.3601912e-03, -5.6398800e-04, -9.4430409e-03,  4.7810143e-03,\n",
              "       -6.0536419e-03,  6.6430927e-03,  5.3965705e-03, -5.0263209e-03,\n",
              "        2.5755649e-03,  5.3877379e-03, -3.5955745e-03, -1.5522215e-03,\n",
              "        9.1692684e-03,  9.0911528e-03, -9.4249686e-03,  7.5686038e-03,\n",
              "        9.8924376e-03, -2.8505949e-03,  2.4508880e-03, -2.8287570e-03,\n",
              "        8.6589577e-03, -2.7359137e-04,  5.6281122e-03,  9.2254234e-03,\n",
              "        4.1028270e-03, -7.1382271e-03, -1.9021180e-03,  9.6448034e-04,\n",
              "        2.0304979e-03,  2.9639795e-03,  9.4675459e-03,  4.3962500e-03,\n",
              "        9.9427951e-03, -8.6926837e-03, -5.7867458e-03,  1.9980529e-03,\n",
              "        3.6689385e-03, -9.9819584e-04, -6.8901959e-03, -3.2532348e-03,\n",
              "       -8.5284738e-03,  9.3944669e-03,  3.7347223e-03, -7.9125548e-03,\n",
              "        3.2225966e-03,  4.1926820e-03, -5.6594731e-03, -5.9167789e-03,\n",
              "        1.0729218e-03,  8.9664767e-03, -9.6397381e-03,  9.9555546e-06,\n",
              "       -6.8464461e-03, -9.5950463e-04,  3.0334585e-03, -5.0258352e-03,\n",
              "       -2.7813141e-03,  6.8234204e-04, -6.3793738e-03,  7.2982907e-03,\n",
              "        4.3922788e-03, -8.5673518e-03, -2.1484832e-03,  3.1663883e-03,\n",
              "       -8.3372304e-03, -7.0728995e-03, -8.4581422e-03, -5.4964074e-03,\n",
              "        8.8333655e-03,  7.1098353e-03,  2.8931841e-03, -8.5614836e-03,\n",
              "        5.7638036e-03,  4.6386286e-03,  1.5162950e-04, -8.8377474e-03,\n",
              "       -1.8822077e-03,  1.9407974e-04, -7.7601336e-03,  2.4672099e-03,\n",
              "        4.7905580e-04, -7.0692012e-03, -8.3048176e-03,  6.0515166e-03,\n",
              "       -8.3493982e-03, -5.6047128e-03,  5.6086145e-03, -4.7124448e-04,\n",
              "       -3.0347023e-03, -5.1782243e-03, -1.1747357e-03,  5.2850056e-03,\n",
              "       -5.9385947e-03, -4.9714544e-03, -4.9452283e-03, -4.7577340e-03,\n",
              "       -7.9841325e-03, -9.7711524e-03,  7.6094600e-03,  7.9869526e-03],\n",
              "      dtype=float32)"
            ]
          },
          "metadata": {},
          "execution_count": 638
        }
      ]
    },
    {
      "cell_type": "code",
      "source": [
        "# Most similar words\n",
        "similar = model.wv.most_similar('vikram')\n",
        "similar"
      ],
      "metadata": {
        "colab": {
          "base_uri": "https://localhost:8080/"
        },
        "id": "xrsEbnfAPTXi",
        "outputId": "30a1e47a-0647-4dff-d05c-5fc27646e581"
      },
      "execution_count": 639,
      "outputs": [
        {
          "output_type": "execute_result",
          "data": {
            "text/plain": [
              "[('globally', 0.2301911860704422),\n",
              " ('consider', 0.20101553201675415),\n",
              " ('sarabhai', 0.18695951998233795),\n",
              " ('vision', 0.1832849085330963),\n",
              " ('believe', 0.1826690435409546),\n",
              " ('others', 0.15490220487117767),\n",
              " ('second', 0.15077923238277435),\n",
              " ('world', 0.14803998172283173),\n",
              " ('grabbed', 0.14361365139484406),\n",
              " ('india', 0.1367270052433014)]"
            ]
          },
          "metadata": {},
          "execution_count": 639
        }
      ]
    },
    {
      "cell_type": "code",
      "source": [
        "# Preprocessing the data  ###Krish Naik sir code\n",
        "text = re.sub(r'\\[[0-9]*\\]',' ',paragraph)\n",
        "text = re.sub(r'\\s+',' ',text)\n",
        "text = text.lower()\n",
        "text = re.sub(r'\\d',' ',text)\n",
        "text = re.sub(r'\\s+',' ',text)\n",
        "\n",
        "# Preparing the dataset\n",
        "sentences = nltk.sent_tokenize(text)\n",
        "\n",
        "sentences = [nltk.word_tokenize(sentence) for sentence in sentences]\n",
        "\n",
        "for i in range(len(sentences)):\n",
        "    sentences[i] = [word for word in sentences[i] if word not in stopwords.words('english')]\n",
        "\n",
        "\n",
        "# Training the Word2Vec model\n",
        "model = Word2Vec(sentences, min_count=1)\n",
        "\n",
        "\n",
        "#words = model.wv.vocab ###In 4.0.0 version of genkin .vocab keyword removed\n",
        "\n",
        "# Finding Word Vectors\n",
        "vector = model.wv['war']\n",
        "\n",
        "# Most similar words\n",
        "similar = model.wv.most_similar('vikram')"
      ],
      "metadata": {
        "id": "x4eikYudLy-o"
      },
      "execution_count": 640,
      "outputs": []
    },
    {
      "cell_type": "markdown",
      "source": [
        "Well done... finally NLP Preprocesssing and Theory completed."
      ],
      "metadata": {
        "id": "aOhv3KTUWRq7"
      }
    }
  ]
}